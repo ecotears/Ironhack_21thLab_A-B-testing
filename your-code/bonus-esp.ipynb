{
 "cells": [
  {
   "cell_type": "markdown",
   "metadata": {},
   "source": [
    "# Desafío 1 - T-test\n",
    "\n",
    "En estadística, la prueba t se utiliza para verificar si dos muestras de datos tienen una diferencia significativa entre sus medias. Hay dos tipos de t-test:\n",
    "\n",
    "* **T-test de Student** (también conocida como prueba t independiente o no correlacionada). Este tipo de prueba t se utiliza para comparar las muestras de dos poblaciones independientes (por ejemplo, los puntajes de pruebas de estudiantes en dos clases diferentes). `scipy` proporciona el método [`ttest_ind`](https://docs.scipy.org/doc/scipy-0.15.1/reference/generated/scipy.stats.ttest_ind.html) para realizar la prueba t de Student.\n",
    "\n",
    "* **T-test pareada** (también conocida como prueba t dependiente o correlacionada). Este tipo de prueba t se utiliza para comparar las muestras de **la misma población** (por ejemplo, los puntajes de diferentes pruebas de estudiantes en la misma clase). `scipy` proporciona el método [`ttest_re`](https://docs.scipy.org/doc/scipy-0.15.1/reference/generated/scipy.stats.ttest_rel.html) para realizar la prueba t pareada.\n",
    "\n",
    "Ambos tipos de pruebas t devuelven un número llamado **valor p** (**p-value**). Si el valor p está por debajo de 0.05, podemos declarar con confianza que se rechaza la hipótesis nula y que la diferencia es significativa. Si el valor p está entre 0.05 y 0.1, también podemos declarar que se rechaza la hipótesis nula, pero no con alta confianza. Si el valor p está por encima de 0.1, no rechazamos la hipótesis nula.\n",
    "\n",
    "Lee más sobre la t-test en [este artículo](https://researchbasics.education.uconn.edu/t-test/) and [esta página de Quora](https://www.quora.com/What-is-the-difference-between-a-paired-and-unpaired-t-test). Asegúrate de entender cuándo usar cada tipo de t-test. "
   ]
  },
  {
   "cell_type": "code",
   "execution_count": 78,
   "metadata": {},
   "outputs": [],
   "source": [
    "# Import libraries\n",
    "\n",
    "import pandas as pd\n",
    "import scipy\n",
    "from scipy.stats import levene, ttest_ind, bartlett, f_oneway, f, ttest_rel"
   ]
  },
  {
   "cell_type": "markdown",
   "metadata": {},
   "source": [
    "#### Importar conjunto de datos\n",
    "\n",
    "En este desafío, trabajaremos con el conjunto de datos de Pokémon que utilizaste la semana pasada. El objetivo es probar si diferentes grupos de Pokémon (por ejemplo, Legendarios vs. Normales, Generación 1 vs. Generación 2, tipo único vs. tipo dual) tienen diferentes estadísticas (por ejemplo, HP, Ataque, Defensa, etc.)."
   ]
  },
  {
   "cell_type": "code",
   "execution_count": 3,
   "metadata": {},
   "outputs": [
    {
     "data": {
      "text/html": [
       "<div>\n",
       "<style scoped>\n",
       "    .dataframe tbody tr th:only-of-type {\n",
       "        vertical-align: middle;\n",
       "    }\n",
       "\n",
       "    .dataframe tbody tr th {\n",
       "        vertical-align: top;\n",
       "    }\n",
       "\n",
       "    .dataframe thead th {\n",
       "        text-align: right;\n",
       "    }\n",
       "</style>\n",
       "<table border=\"1\" class=\"dataframe\">\n",
       "  <thead>\n",
       "    <tr style=\"text-align: right;\">\n",
       "      <th></th>\n",
       "      <th>#</th>\n",
       "      <th>Name</th>\n",
       "      <th>Type 1</th>\n",
       "      <th>Type 2</th>\n",
       "      <th>Total</th>\n",
       "      <th>HP</th>\n",
       "      <th>Attack</th>\n",
       "      <th>Defense</th>\n",
       "      <th>Sp. Atk</th>\n",
       "      <th>Sp. Def</th>\n",
       "      <th>Speed</th>\n",
       "      <th>Generation</th>\n",
       "      <th>Legendary</th>\n",
       "    </tr>\n",
       "  </thead>\n",
       "  <tbody>\n",
       "    <tr>\n",
       "      <th>0</th>\n",
       "      <td>1</td>\n",
       "      <td>Bulbasaur</td>\n",
       "      <td>Grass</td>\n",
       "      <td>Poison</td>\n",
       "      <td>318</td>\n",
       "      <td>45</td>\n",
       "      <td>49</td>\n",
       "      <td>49</td>\n",
       "      <td>65</td>\n",
       "      <td>65</td>\n",
       "      <td>45</td>\n",
       "      <td>1</td>\n",
       "      <td>False</td>\n",
       "    </tr>\n",
       "    <tr>\n",
       "      <th>1</th>\n",
       "      <td>2</td>\n",
       "      <td>Ivysaur</td>\n",
       "      <td>Grass</td>\n",
       "      <td>Poison</td>\n",
       "      <td>405</td>\n",
       "      <td>60</td>\n",
       "      <td>62</td>\n",
       "      <td>63</td>\n",
       "      <td>80</td>\n",
       "      <td>80</td>\n",
       "      <td>60</td>\n",
       "      <td>1</td>\n",
       "      <td>False</td>\n",
       "    </tr>\n",
       "    <tr>\n",
       "      <th>2</th>\n",
       "      <td>3</td>\n",
       "      <td>Venusaur</td>\n",
       "      <td>Grass</td>\n",
       "      <td>Poison</td>\n",
       "      <td>525</td>\n",
       "      <td>80</td>\n",
       "      <td>82</td>\n",
       "      <td>83</td>\n",
       "      <td>100</td>\n",
       "      <td>100</td>\n",
       "      <td>80</td>\n",
       "      <td>1</td>\n",
       "      <td>False</td>\n",
       "    </tr>\n",
       "    <tr>\n",
       "      <th>3</th>\n",
       "      <td>3</td>\n",
       "      <td>VenusaurMega Venusaur</td>\n",
       "      <td>Grass</td>\n",
       "      <td>Poison</td>\n",
       "      <td>625</td>\n",
       "      <td>80</td>\n",
       "      <td>100</td>\n",
       "      <td>123</td>\n",
       "      <td>122</td>\n",
       "      <td>120</td>\n",
       "      <td>80</td>\n",
       "      <td>1</td>\n",
       "      <td>False</td>\n",
       "    </tr>\n",
       "    <tr>\n",
       "      <th>4</th>\n",
       "      <td>4</td>\n",
       "      <td>Charmander</td>\n",
       "      <td>Fire</td>\n",
       "      <td>NaN</td>\n",
       "      <td>309</td>\n",
       "      <td>39</td>\n",
       "      <td>52</td>\n",
       "      <td>43</td>\n",
       "      <td>60</td>\n",
       "      <td>50</td>\n",
       "      <td>65</td>\n",
       "      <td>1</td>\n",
       "      <td>False</td>\n",
       "    </tr>\n",
       "  </tbody>\n",
       "</table>\n",
       "</div>"
      ],
      "text/plain": [
       "   #                   Name Type 1  Type 2  Total  HP  Attack  Defense  \\\n",
       "0  1              Bulbasaur  Grass  Poison    318  45      49       49   \n",
       "1  2                Ivysaur  Grass  Poison    405  60      62       63   \n",
       "2  3               Venusaur  Grass  Poison    525  80      82       83   \n",
       "3  3  VenusaurMega Venusaur  Grass  Poison    625  80     100      123   \n",
       "4  4             Charmander   Fire     NaN    309  39      52       43   \n",
       "\n",
       "   Sp. Atk  Sp. Def  Speed  Generation  Legendary  \n",
       "0       65       65     45           1      False  \n",
       "1       80       80     60           1      False  \n",
       "2      100      100     80           1      False  \n",
       "3      122      120     80           1      False  \n",
       "4       60       50     65           1      False  "
      ]
     },
     "execution_count": 3,
     "metadata": {},
     "output_type": "execute_result"
    }
   ],
   "source": [
    "pokemon = pd.read_csv('/home/ubuntu/Ironhack_all/Ironhack_21thLab_A-B-testing/data/Pokemon.csv')\n",
    "\n",
    "pokemon.head()"
   ]
  },
  {
   "cell_type": "markdown",
   "metadata": {},
   "source": [
    "#### Primero queremos definir una función con la cual podamos probar las medias de un conjunto de características de dos muestras.\n",
    "\n",
    "En la siguiente celda verás las anotaciones de la función de Python que explican qué hace esta función, sus argumentos y el valor devuelto. Este tipo de anotación se llama **docstring**, que es una convención utilizada entre los desarrolladores de Python. La convención de docstring permite a los desarrolladores escribir documentaciones técnicas consistentes para sus códigos para que otros puedan leerlas. También permite que algunos sitios web analicen automáticamente las docstrings y muestren documentaciones amigables para el usuario.\n",
    "\n",
    "Sigue las especificaciones del docstring y completa la función."
   ]
  },
  {
   "cell_type": "code",
   "execution_count": 61,
   "metadata": {},
   "outputs": [
    {
     "name": "stdout",
     "output_type": "stream",
     "text": [
      "{}\n"
     ]
    },
    {
     "data": {
      "text/plain": [
       "{'HP': 1.0026911708035284e-13,\n",
       " 'Attack': 2.520372449236646e-16,\n",
       " 'Defense': 4.8269984949193316e-11,\n",
       " 'Sp. Atk': 1.5514614112239812e-21,\n",
       " 'Sp. Def': 2.2949327864052826e-15,\n",
       " 'Speed': 1.049016311882451e-18,\n",
       " 'Total': 9.357954335957446e-47}"
      ]
     },
     "execution_count": 61,
     "metadata": {},
     "output_type": "execute_result"
    }
   ],
   "source": [
    "Legendaries = pokemon[pokemon['Legendary']==True]\n",
    "Not_Legendaries = pokemon[pokemon['Legendary']==False]\n",
    "\n",
    "p_values_list = {}\n",
    "\n",
    "def t_test_features (columns, group1, group2):\n",
    "    for column in columns:\n",
    "        stat,p_value = ttest_ind(group1[column],group2[column],equal_var=False) #in the solution they assumed that all var was not equal\n",
    "        # stat_levene, p_value_levene = levene(Legendaries[column], Not_Legendaries[column])\n",
    "        # if p_value_levene > 0.05:\n",
    "        #     stat, p_value = ttest_ind(Legendaries[column],Not_Legendaries[column],equal_var=True)\n",
    "        #     p_values_list[column] = p_value\n",
    "        # else:\n",
    "        #     stat,p_value = ttest_ind(Legendaries[column],Not_Legendaries[column],equal_var=False)\n",
    "        p_values_list[column] = p_value\n",
    "    return p_values_list\n",
    "print(p_values_list)\n",
    "\n",
    "def mean_differences (columns, group1, group2):\n",
    "    mean_difference_dict = {}\n",
    "    for column in columns:\n",
    "        mean_difference_dict[column] = group1[column].mean() - group2[column].mean()\n",
    "    return mean_difference_dict\n",
    "    print(mean_difference_dict)\n",
    "\n",
    "\n",
    "columns_for_function = ['HP','Attack','Defense','Sp. Atk','Sp. Def', 'Speed','Total']\n",
    "\n",
    "t_test_features (columns_for_function,Legendaries,Not_Legendaries)\n"
   ]
  },
  {
   "cell_type": "code",
   "execution_count": 60,
   "metadata": {},
   "outputs": [
    {
     "data": {
      "text/plain": [
       "{'HP': 25.55614861329147,\n",
       " 'Attack': 41.00753532182104,\n",
       " 'Defense': 28.102354788069064,\n",
       " 'Sp. Atk': 53.73019361590791,\n",
       " 'Sp. Def': 37.04594453165882,\n",
       " 'Speed': 34.72883307169022,\n",
       " 'Total': 220.1710099424385}"
      ]
     },
     "execution_count": 60,
     "metadata": {},
     "output_type": "execute_result"
    }
   ],
   "source": [
    "mean_differences (columns_for_function,Legendaries,Not_Legendaries)"
   ]
  },
  {
   "cell_type": "markdown",
   "metadata": {},
   "source": [
    "HO: there is no difference in variance between groups. p_value < 0.05 --> reject --> THERE IS DIFF"
   ]
  },
  {
   "cell_type": "code",
   "execution_count": 31,
   "metadata": {},
   "outputs": [
    {
     "name": "stdout",
     "output_type": "stream",
     "text": [
      "0.5758428070138398\n",
      "0.1657970515126399\n",
      "0.9092354722941887\n"
     ]
    }
   ],
   "source": [
    "# The solution assumed unequal variance all the way without testing..\n",
    "\n",
    "import numpy as np\n",
    "\n",
    "var_legendary = np.var(Legendaries['HP'], ddof=1)\n",
    "var_not_leg = np.var(Not_Legendaries['HP'], ddof=1)\n",
    "F = var_legendary/var_not_leg\n",
    "dof_leg = len(Legendaries['HP']) - 1\n",
    "dof_not_leg = len(Not_Legendaries['HP']) - 1\n",
    "\n",
    "p_value_f = 1 - f.cdf(F, dof_leg,dof_not_leg)\n",
    "\n",
    "stat_levene, p_value_levene = levene(Legendaries['HP'], Not_Legendaries['HP'])\n",
    "stat_bartlett, p_value_bartlett = bartlett(Legendaries['HP'], Not_Legendaries['HP'])\n",
    "\n",
    "print(p_value_levene)\n",
    "print(p_value_bartlett)\n",
    "print(p_value_f)"
   ]
  },
  {
   "cell_type": "markdown",
   "metadata": {},
   "source": [
    "#### Usando la función `t_test_features`, realiza la prueba t para los Pokémon Legendarios vs no Legendarios.\n",
    "\n",
    "*Pista: tu resultado debería verse como el siguiente:*\n",
    "\n",
    "```\n",
    "{'HP': 1.0026911708035284e-13,\n",
    " 'Attack': 2.520372449236646e-16,\n",
    " 'Defense': 4.8269984949193316e-11,\n",
    " 'Sp. Atk': 1.5514614112239812e-21,\n",
    " 'Sp. Def': 2.2949327864052826e-15,\n",
    " 'Speed': 1.049016311882451e-18,\n",
    " 'Total': 9.357954335957446e-47}\n",
    " ```"
   ]
  },
  {
   "cell_type": "markdown",
   "metadata": {},
   "source": [
    "#### A partir de los resultados de la prueba anterior, ¿qué conclusión puedes sacar? ¿Tienen los Pokémon Legendarios y no Legendarios estadísticas significativamente diferentes en cada característica?"
   ]
  },
  {
   "cell_type": "markdown",
   "metadata": {},
   "source": [
    "From the above results, we can interpret that there are ***SIGNIFICANT*** differences between the stats of legendary pokemons and non_legendary pokemons."
   ]
  },
  {
   "cell_type": "markdown",
   "metadata": {},
   "source": [
    "#### A continuación, realiza la prueba t (t-test) para los Pokémon de la Generación 1 (Generation 1) y la Generación 2 (Generation 2)."
   ]
  },
  {
   "cell_type": "code",
   "execution_count": 45,
   "metadata": {},
   "outputs": [
    {
     "data": {
      "text/plain": [
       "{'HP': 0.14551697834219623,\n",
       " 'Attack': 0.24721958967217725,\n",
       " 'Defense': 0.5677711011725426,\n",
       " 'Sp. Atk': 0.12332165977104394,\n",
       " 'Sp. Def': 0.18829872292645752,\n",
       " 'Speed': 0.00239265937312135,\n",
       " 'Total': 0.5631377907941676}"
      ]
     },
     "execution_count": 45,
     "metadata": {},
     "output_type": "execute_result"
    }
   ],
   "source": [
    "gen1 = pokemon[pokemon['Generation'] == 1]\n",
    "gen2 = pokemon[pokemon['Generation'] == 2]\n",
    "\n",
    "result_gen = t_test_features(columns_for_function,gen1,gen2)\n",
    "\n",
    "result_gen\n"
   ]
  },
  {
   "cell_type": "code",
   "execution_count": 66,
   "metadata": {},
   "outputs": [
    {
     "data": {
      "text/plain": [
       "{'HP': -5.3882700613775825,\n",
       " 'Attack': 4.610252330075028,\n",
       " 'Defense': -2.5253466696976687,\n",
       " 'Sp. Atk': 5.875880882018649,\n",
       " 'Sp. Def': -4.815298931575356,\n",
       " 'Speed': 10.773016594680605,\n",
       " 'Total': 8.530234144123654}"
      ]
     },
     "execution_count": 66,
     "metadata": {},
     "output_type": "execute_result"
    }
   ],
   "source": [
    "result_mean_gen = mean_differences(columns_for_function,gen1,gen2)\n",
    "\n",
    "result_mean_gen"
   ]
  },
  {
   "cell_type": "markdown",
   "metadata": {},
   "source": [
    "#### ¿Qué conclusiones puedes sacar?"
   ]
  },
  {
   "cell_type": "code",
   "execution_count": 73,
   "metadata": {},
   "outputs": [
    {
     "name": "stdout",
     "output_type": "stream",
     "text": [
      "We fail to reject the null hypothesis, there is no significant difference in HP\n",
      "                                                                                  \n",
      "There is significant difference in Attack between generations\n",
      "The difference between gen1 and gen2 for Attack is 4.610252330075028\n",
      "                                                                                  \n",
      "There is significant difference in Defense between generations\n",
      "The difference between gen1 and gen2 for Defense is -2.5253466696976687\n",
      "                                                                                  \n",
      "There is significant difference in Sp. Atk between generations\n",
      "The difference between gen1 and gen2 for Sp. Atk is 5.875880882018649\n",
      "                                                                                  \n",
      "There is significant difference in Sp. Def between generations\n",
      "The difference between gen1 and gen2 for Sp. Def is -4.815298931575356\n",
      "                                                                                  \n",
      "There is significant difference in Speed between generations\n",
      "The difference between gen1 and gen2 for Speed is 10.773016594680605\n",
      "                                                                                  \n",
      "There is significant difference in Total between generations\n",
      "The difference between gen1 and gen2 for Total is 8.530234144123654\n",
      "                                                                                  \n"
     ]
    }
   ],
   "source": [
    "for key, value in result_gen.items():\n",
    "    if value < 0.05:\n",
    "        print(f'There is significant difference in {key} between generations')\n",
    "        if key in result_mean_gen:\n",
    "            print(f'The difference between gen1 and gen2 for {key} is {result_mean_gen[key]}')\n",
    "        print('                                                                                  ')\n",
    "    else:\n",
    "        print(f'We fail to reject the null hypothesis, there is no significant difference in {key}')\n",
    "        print('                                                                                  ')\n"
   ]
  },
  {
   "cell_type": "markdown",
   "metadata": {},
   "source": [
    "#### Compara los Pokémon que tienen un solo tipo vs aquellos que tienen dos tipos."
   ]
  },
  {
   "cell_type": "code",
   "execution_count": 54,
   "metadata": {},
   "outputs": [
    {
     "data": {
      "text/plain": [
       "{'HP': 0.11314389855379421,\n",
       " 'Attack': 0.00014932578145948305,\n",
       " 'Defense': 2.7978540411514693e-08,\n",
       " 'Sp. Atk': 0.00013876216585667842,\n",
       " 'Sp. Def': 0.00010730610934512779,\n",
       " 'Speed': 0.02421703281819094,\n",
       " 'Total': 1.1157056505229961e-07}"
      ]
     },
     "execution_count": 54,
     "metadata": {},
     "output_type": "execute_result"
    }
   ],
   "source": [
    "pokemon.head()\n",
    "\n",
    "pokemon['one_or_two'] = np.select([(pokemon['Type 1'].notna()) & (pokemon['Type 2'].notna())], [2], default=1)\n",
    "\n",
    "one_type_only = pokemon[pokemon['one_or_two'] == 1]\n",
    "two_types = pokemon[pokemon['one_or_two'] == 2]\n",
    "\n",
    "result_one_or_two = t_test_features(columns_for_function,one_type_only,two_types)\n",
    "\n",
    "result_one_or_two"
   ]
  },
  {
   "cell_type": "code",
   "execution_count": 75,
   "metadata": {},
   "outputs": [
    {
     "data": {
      "text/plain": [
       "{'HP': -2.8829190758679317,\n",
       " 'Attack': -8.648006307726973,\n",
       " 'Defense': -12.090836274436185,\n",
       " 'Sp. Atk': -8.76333508547971,\n",
       " 'Sp. Def': -7.591124127055636,\n",
       " 'Speed': -4.636254411654278,\n",
       " 'Total': -44.612475282220714}"
      ]
     },
     "execution_count": 75,
     "metadata": {},
     "output_type": "execute_result"
    }
   ],
   "source": [
    "mean_result_one_or_two = mean_differences(columns_for_function,one_type_only,two_types)\n",
    "mean_result_one_or_two"
   ]
  },
  {
   "cell_type": "markdown",
   "metadata": {},
   "source": [
    "#### ¿Qué conclusiones puedes sacar?"
   ]
  },
  {
   "cell_type": "code",
   "execution_count": 77,
   "metadata": {},
   "outputs": [
    {
     "name": "stdout",
     "output_type": "stream",
     "text": [
      "We fail to reject the null hypothesis, there is no significant difference in HP\n",
      "                                                                                  \n",
      "There is significant difference in Attack between generations\n",
      "The difference between two types and two types for Attack is -8.648006307726973\n",
      "                                                                                  \n",
      "There is significant difference in Defense between generations\n",
      "The difference between two types and two types for Defense is -12.090836274436185\n",
      "                                                                                  \n",
      "There is significant difference in Sp. Atk between generations\n",
      "The difference between two types and two types for Sp. Atk is -8.76333508547971\n",
      "                                                                                  \n",
      "There is significant difference in Sp. Def between generations\n",
      "The difference between two types and two types for Sp. Def is -7.591124127055636\n",
      "                                                                                  \n",
      "There is significant difference in Speed between generations\n",
      "The difference between two types and two types for Speed is -4.636254411654278\n",
      "                                                                                  \n",
      "There is significant difference in Total between generations\n",
      "The difference between two types and two types for Total is -44.612475282220714\n",
      "                                                                                  \n"
     ]
    }
   ],
   "source": [
    "for key, value in result_one_or_two.items():\n",
    "    if value < 0.05:\n",
    "        print(f'There is significant difference in {key} between generations')\n",
    "        if key in mean_result_one_or_two:\n",
    "            print(f'The difference between two types and two types for {key} is {mean_result_one_or_two[key]}')\n",
    "        print('                                                                                  ')\n",
    "    else:\n",
    "        print(f'We fail to reject the null hypothesis, there is no significant difference in {key}')\n",
    "        print('                                                                                  ')"
   ]
  },
  {
   "cell_type": "markdown",
   "metadata": {},
   "source": [
    "#### Ahora, queremos comparar si hay diferencias significativas entre `Attack` vs `Defense` y `Sp. Atk` vs `Sp. Def` de todos los Pokémon. Por favor, escribe tu código a continuación.\n",
    "\n",
    "*Pista: ¿estás comparando diferentes poblaciones o la misma población?*"
   ]
  },
  {
   "cell_type": "markdown",
   "metadata": {},
   "source": [
    "#### ¿Qué conclusiones puedes sacar?"
   ]
  },
  {
   "cell_type": "code",
   "execution_count": 85,
   "metadata": {},
   "outputs": [
    {
     "name": "stdout",
     "output_type": "stream",
     "text": [
      "1.7140303479358558e-05\n",
      "5.158749999999998\n",
      "We reject the null hypothesis, there IS statistical significance. Defense seems to be on average 5 pts lower than Attack\n"
     ]
    }
   ],
   "source": [
    "# We have to use paired sample t-tests:\n",
    "\n",
    "stat, p_value = ttest_rel(pokemon['Attack'], pokemon['Defense'])\n",
    "\n",
    "print(p_value)\n",
    "print(pokemon['Attack'].mean() - pokemon['Defense'].mean())\n",
    "\n",
    "print('We reject the null hypothesis, there IS statistical significance. Defense seems to be on average 5 pts lower than Attack')"
   ]
  },
  {
   "cell_type": "code",
   "execution_count": 87,
   "metadata": {},
   "outputs": [
    {
     "name": "stdout",
     "output_type": "stream",
     "text": [
      "0.3933685997548122\n",
      "0.9174999999999898\n",
      "We fail toreject the null hypothesis, there IS NO significant difference\n"
     ]
    }
   ],
   "source": [
    "stat, p_value = ttest_rel(pokemon['Sp. Atk'], pokemon['Sp. Def'])\n",
    "\n",
    "print(p_value)\n",
    "print(pokemon['Sp. Atk'].mean() - pokemon['Sp. Def'].mean())\n",
    "print('We fail to reject the null hypothesis, there IS NO significant difference')"
   ]
  }
 ],
 "metadata": {
  "kernelspec": {
   "display_name": "Python 3 (ipykernel)",
   "language": "python",
   "name": "python3"
  },
  "language_info": {
   "codemirror_mode": {
    "name": "ipython",
    "version": 3
   },
   "file_extension": ".py",
   "mimetype": "text/x-python",
   "name": "python",
   "nbconvert_exporter": "python",
   "pygments_lexer": "ipython3",
   "version": "3.10.12"
  }
 },
 "nbformat": 4,
 "nbformat_minor": 2
}
